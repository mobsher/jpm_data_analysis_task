{
 "cells": [
  {
   "cell_type": "code",
   "execution_count": 1,
   "id": "196a1d05",
   "metadata": {},
   "outputs": [],
   "source": [
    "import pandas as pd\n",
    "import numpy as np\n",
    "import os"
   ]
  },
  {
   "cell_type": "code",
   "execution_count": 52,
   "id": "80a5b00e",
   "metadata": {},
   "outputs": [],
   "source": [
    "#pwd=os.getcwd()\n",
    "#filepath=pwd+\"\\\\Project Data for Analysis.xlsx\"\n",
    "#data=pd.read_excel(filepath,sheet_name='Edited tables')\n",
    "#data.head()"
   ]
  },
  {
   "cell_type": "code",
   "execution_count": 51,
   "id": "30d4b3e2",
   "metadata": {},
   "outputs": [],
   "source": [
    "#id_vars=data.columns[0:4]\n",
    "#value_vars=data.columns[4:]\n",
    "#id_vars\n"
   ]
  },
  {
   "cell_type": "code",
   "execution_count": 50,
   "id": "1d6d199d",
   "metadata": {},
   "outputs": [],
   "source": [
    "#data_melted=data.melt(id_vars=id_vars,value_vars=value_vars,var_name='month+Info',value_name='Info_value')\n",
    "#data_melted"
   ]
  },
  {
   "cell_type": "code",
   "execution_count": 49,
   "id": "cd4a19b7",
   "metadata": {},
   "outputs": [],
   "source": [
    "#data_melted['total']=data_melted['Cost $ / hr']*data_melted['Info_value']\n",
    "#data_melted"
   ]
  },
  {
   "cell_type": "code",
   "execution_count": 29,
   "id": "725f8edc",
   "metadata": {},
   "outputs": [],
   "source": [
    "#groubed_res=data_melted.groupby('Resource').sum()"
   ]
  },
  {
   "cell_type": "code",
   "execution_count": 31,
   "id": "ad7c4a57",
   "metadata": {},
   "outputs": [],
   "source": [
    "#grouped_pro=data_melted.groupby('Project').sum()"
   ]
  },
  {
   "cell_type": "code",
   "execution_count": 48,
   "id": "699cda7f",
   "metadata": {},
   "outputs": [],
   "source": [
    "#grouped_mi=data_melted.groupby(['month+Info','Info_value','Resource','Project','Task']).sum()\n",
    "#grouped_mi.to_excel('grpouped.xlsx')"
   ]
  },
  {
   "cell_type": "code",
   "execution_count": 37,
   "id": "260ec7db",
   "metadata": {},
   "outputs": [],
   "source": [
    "#data_melted.groupby('Task').sum()"
   ]
  },
  {
   "cell_type": "code",
   "execution_count": null,
   "id": "a6afad90",
   "metadata": {},
   "outputs": [],
   "source": []
  }
 ],
 "metadata": {
  "kernelspec": {
   "display_name": "Python 3 (ipykernel)",
   "language": "python",
   "name": "python3"
  },
  "language_info": {
   "codemirror_mode": {
    "name": "ipython",
    "version": 3
   },
   "file_extension": ".py",
   "mimetype": "text/x-python",
   "name": "python",
   "nbconvert_exporter": "python",
   "pygments_lexer": "ipython3",
   "version": "3.9.12"
  }
 },
 "nbformat": 4,
 "nbformat_minor": 5
}
